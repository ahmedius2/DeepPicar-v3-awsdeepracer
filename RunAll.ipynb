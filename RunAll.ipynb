{
 "cells": [
  {
   "cell_type": "code",
   "execution_count": 1,
   "metadata": {},
   "outputs": [],
   "source": [
    "import tensorflow as tf\n",
    "import cv2\n",
    "import numpy as np\n",
    "import matplotlib.pyplot as plt\n",
    "from tqdm import tqdm\n",
    "from pandas import read_csv\n",
    "from sklearn.model_selection import train_test_split\n",
    "import math\n",
    "# from skimage import data\n",
    "from skimage import io\n",
    "from skimage.exposure import match_histograms"
   ]
  },
  {
   "cell_type": "code",
   "execution_count": 2,
   "metadata": {},
   "outputs": [],
   "source": [
    "model_name = \"model_large\"\n",
    "img_width = 200\n",
    "img_height = 66\n",
    "img_channels = 3\n",
    "model_file = \"models/{}-{}x{}x{}\".format(model_name[6:], img_width, img_height, img_channels)\n"
   ]
  },
  {
   "cell_type": "code",
   "execution_count": 13,
   "metadata": {},
   "outputs": [
    {
     "name": "stdout",
     "output_type": "stream",
     "text": [
      "not in colab\n",
      "unzip Dataset-09am-2.zip into dataset folder\n"
     ]
    }
   ],
   "source": [
    "import requests \n",
    "import os\n",
    "import zipfile\n",
    "\n",
    "dataset_dir = \"dataset\"\n",
    "dataset_zipfile = 'Dataset.zip'\n",
    "RunningInCOLAB = 'google.colab' in str(get_ipython())\n",
    "force_unzip = True\n",
    "use_match_histogram = True\n",
    "\n",
    "if RunningInCOLAB: \n",
    "    print(\"in colab\")\n",
    "    from google.colab import files\n",
    "    uploaded = files.upload()\n",
    "    for fn in uploaded.keys():\n",
    "        print('User uploaded file \"{name}\" with length {length} bytes'.format(\n",
    "            name=fn, length=len(uploaded[fn])))\n",
    "        dataset_zipfile = fn  # expecting a zip file to be uploaded. \n",
    "else:\n",
    "    print (\"not in colab\")\n",
    "    # RPI_IP=None # replace this with the IP address of your raspberry pi \n",
    "    # if RPI_IP is not None:\n",
    "    #     URL=\"http://\"+RPI_IP+\":8000/\"+dataset_zipfile\n",
    "    #     filename=URL.split('/')[-1]\n",
    "    #     r = requests.get(URL)\n",
    "    #     open(filename, 'wb').write(r.content)\n",
    "\n",
    "if not os.path.isfile(dataset_zipfile):\n",
    "    default_dataset_URL = \"https://raw.githubusercontent.com/heechul/DeepPicar-v3/devel/Dataset-kucsl-Apr2022.zip\"    \n",
    "    print (\"No existing dataset. download from \", default_dataset_URL)\n",
    "    r = requests.get(default_dataset_URL)\n",
    "    open(dataset_zipfile, 'wb').write(r.content)\n",
    "\n",
    "if not os.path.isdir(dataset_dir) or force_unzip==True:\n",
    "    print ('unzip %s into %s folder' % (dataset_zipfile, dataset_dir))\n",
    "    zip_ref = zipfile.ZipFile(dataset_zipfile)\n",
    "    zip_ref.extractall(dataset_dir)"
   ]
  },
  {
   "cell_type": "code",
   "execution_count": 8,
   "metadata": {},
   "outputs": [],
   "source": [
    "from keras import layers\n",
    "\n",
    "model = tf.keras.Sequential()\n",
    "model.add(layers.Conv2D(24, (5,5), strides=(2,2), activation='relu', input_shape=(img_height,img_width,img_channels)))\n",
    "model.add(layers.Conv2D(36, (5,5), strides=(2,2), activation='relu'))\n",
    "model.add(layers.Conv2D(48, (5,5), strides=(2,2), activation='relu'))\n",
    "model.add(layers.Conv2D(64, (3,3), activation='relu'))\n",
    "model.add(layers.Conv2D(64, (3,3), activation='relu'))\n",
    "model.add(layers.Flatten())\n",
    "model.add(layers.Dense(100, activation='relu'))\n",
    "model.add(layers.Dense(50, activation='relu'))\n",
    "model.add(layers.Dense(10, activation='relu'))\n",
    "model.add(layers.Dense(1))"
   ]
  },
  {
   "cell_type": "code",
   "execution_count": 47,
   "metadata": {},
   "outputs": [],
   "source": [
    "if use_match_histogram:\n",
    "    refs = []\n",
    "    num_spectrums = 5\n",
    "    size = img_width*img_height\n",
    "    num_colors = int(256 / num_spectrums)\n",
    "    color_pixels = int(size / num_colors)\n",
    "    color = 0\n",
    "    for s in range(num_spectrums): \n",
    "        num_color = 0\n",
    "        img = []\n",
    "        for i in range(img_height):\n",
    "            img.append([])\n",
    "            for j in range(img_width):\n",
    "                img[i].append([])\n",
    "                #for k in range(3):\n",
    "                img[i][j].append(color)\n",
    "                img[i][j].append(color)\n",
    "                img[i][j].append(color)\n",
    "                num_color += 1\n",
    "                if num_color == color_pixels - 1:\n",
    "                    if not color == 255:\n",
    "                        color += 1\n",
    "                    num_color = 0            \n",
    "        img = np.asarray(img, dtype=np.uint8) / 255.\n",
    "        refs.append(img)"
   ]
  },
  {
   "cell_type": "code",
   "execution_count": 48,
   "metadata": {},
   "outputs": [
    {
     "name": "stdout",
     "output_type": "stream",
     "text": [
      "dataset/out-video-07-0940am-rev.avi dataset/out-key-07-0940am-rev.csv\n",
      "6000 6000\n",
      "dataset/out-video-08-0944am-rev.avi dataset/out-key-08-0944am-rev.csv\n",
      "12000 12000\n",
      "dataset/out-video-06-0938am.avi dataset/out-key-06-0938am.csv\n",
      "18000 18000\n",
      "dataset/out-video-05-0936am.avi dataset/out-key-05-0936am.csv\n",
      "24000 24000\n",
      "Loaded 24000 smaples\n"
     ]
    }
   ],
   "source": [
    "# Train/test data lists\n",
    "imgs = []\n",
    "vals = []\n",
    "\n",
    "import glob\n",
    "for vid_file_path in glob.iglob(f'{dataset_dir}/*.avi'):\n",
    "    csv_file_path = vid_file_path.replace('video', 'key').replace('avi', 'csv')\n",
    "    print(vid_file_path, csv_file_path)\n",
    "    vid = cv2.VideoCapture(vid_file_path)\n",
    "    df = read_csv(csv_file_path)\n",
    "    for val in df[\"wheel\"].values:\n",
    "        ret,img = vid.read()\n",
    "        # Convert to grayscale and readd channel dimension\n",
    "        if img_channels == 1:\n",
    "            img = cv2.cvtColor(img, cv2.COLOR_BGR2GRAY)\n",
    "            img = cv2.resize(img, (img_width, img_height))\n",
    "            img = np.reshape(img, (img_height, img_width, img_channels))\n",
    "        # For RGB, just need to resize image\n",
    "        else:\n",
    "            img = cv2.resize(img, (img_width, img_height))\n",
    "        img = img / 255.\n",
    "        imgs.append(img)\n",
    "        vals.append(val)\n",
    "        if use_match_histogram == True:\n",
    "            for i in range(5):\n",
    "                matched = match_histograms(img, refs[i], channel_axis=-1)\n",
    "                imgs.append(matched)\n",
    "                vals.append(val)\n",
    "    print(len(imgs), len(vals))\n",
    "\n",
    "# Convert lists to numpy arrays and ensure they are of equal length    \n",
    "imgs = np.asarray(imgs)  # input images\n",
    "vals = np.asarray(vals)  # steering angles\n",
    "assert len(imgs) == len(vals)\n",
    "print(\"Loaded {} smaples\".format(len(imgs)))"
   ]
  },
  {
   "cell_type": "code",
   "execution_count": 49,
   "metadata": {},
   "outputs": [
    {
     "name": "stdout",
     "output_type": "stream",
     "text": [
      "(66, 200, 3) (66, 200, 3) (66, 200, 3)\n"
     ]
    },
    {
     "data": {
      "image/png": "[encoded data removed]",
      "text/plain": [
       "<Figure size 576x288 with 3 Axes>"
      ]
     },
     "metadata": {
      "needs_background": "light"
     },
     "output_type": "display_data"
    }
   ],
   "source": [
    "fig, (ax1, ax2, ax3) = plt.subplots(nrows=1, ncols=3, figsize=(8, 4),\n",
    "                                    sharex=True, sharey=True)\n",
    "for aa in (ax1, ax2, ax3):\n",
    "    aa.set_axis_off()\n",
    "\n",
    "print(imgs[0].shape, imgs[1].shape, imgs[2].shape)\n",
    "ax1.imshow(imgs[0])\n",
    "ax1.set_title('Source')\n",
    "ax2.imshow(refs[1])\n",
    "ax2.set_title('Reference')\n",
    "ax3.imshow(imgs[2])\n",
    "ax3.set_title('Matched')\n",
    "\n",
    "plt.tight_layout()\n",
    "plt.show()"
   ]
  },
  {
   "cell_type": "code",
   "execution_count": 50,
   "metadata": {},
   "outputs": [
    {
     "name": "stdout",
     "output_type": "stream",
     "text": [
      "Train/Test\n"
     ]
    }
   ],
   "source": [
    "# Split the dataset for train and test \n",
    "print(\"Train/Test\")\n",
    "x_train, x_test, y_train, y_test = train_test_split(imgs, vals, test_size=0.25)"
   ]
  },
  {
   "cell_type": "code",
   "execution_count": 51,
   "metadata": {},
   "outputs": [
    {
     "name": "stdout",
     "output_type": "stream",
     "text": [
      "Model compile\n",
      "Model: \"sequential\"\n",
      "_________________________________________________________________\n",
      " Layer (type)                Output Shape              Param #   \n",
      "=================================================================\n",
      " conv2d (Conv2D)             (None, 31, 98, 24)        1824      \n",
      "                                                                 \n",
      " conv2d_1 (Conv2D)           (None, 14, 47, 36)        21636     \n",
      "                                                                 \n",
      " conv2d_2 (Conv2D)           (None, 5, 22, 48)         43248     \n",
      "                                                                 \n",
      " conv2d_3 (Conv2D)           (None, 3, 20, 64)         27712     \n",
      "                                                                 \n",
      " conv2d_4 (Conv2D)           (None, 1, 18, 64)         36928     \n",
      "                                                                 \n",
      " flatten (Flatten)           (None, 1152)              0         \n",
      "                                                                 \n",
      " dense (Dense)               (None, 100)               115300    \n",
      "                                                                 \n",
      " dense_1 (Dense)             (None, 50)                5050      \n",
      "                                                                 \n",
      " dense_2 (Dense)             (None, 10)                510       \n",
      "                                                                 \n",
      " dense_3 (Dense)             (None, 1)                 11        \n",
      "                                                                 \n",
      "=================================================================\n",
      "Total params: 252,219\n",
      "Trainable params: 252,219\n",
      "Non-trainable params: 0\n",
      "_________________________________________________________________\n"
     ]
    }
   ],
   "source": [
    "#print(x_train[0])\n",
    "print (\"Model compile\")\n",
    "model.compile(optimizer=tf.keras.optimizers.Adam(1e-4),\n",
    "                loss='mse')\n",
    "model.summary()"
   ]
  },
  {
   "cell_type": "code",
   "execution_count": 52,
   "metadata": {},
   "outputs": [
    {
     "name": "stdout",
     "output_type": "stream",
     "text": [
      "Model fit\n",
      "Epoch 1/10\n"
     ]
    },
    {
     "name": "stderr",
     "output_type": "stream",
     "text": [
      "2022-06-01 18:08:50.850906: W tensorflow/core/platform/profile_utils/cpu_utils.cc:128] Failed to get CPU frequency: 0 Hz\n"
     ]
    },
    {
     "name": "stdout",
     "output_type": "stream",
     "text": [
      "180/180 [==============================] - 38s 201ms/step - loss: 0.0570 - val_loss: 0.0460\n",
      "Epoch 2/10\n",
      "180/180 [==============================] - 24s 135ms/step - loss: 0.0420 - val_loss: 0.0397\n",
      "Epoch 3/10\n",
      "180/180 [==============================] - 25s 136ms/step - loss: 0.0386 - val_loss: 0.0388\n",
      "Epoch 4/10\n",
      "180/180 [==============================] - 26s 142ms/step - loss: 0.0361 - val_loss: 0.0357\n",
      "Epoch 5/10\n",
      "180/180 [==============================] - 26s 142ms/step - loss: 0.0344 - val_loss: 0.0341\n",
      "Epoch 6/10\n",
      "180/180 [==============================] - 26s 143ms/step - loss: 0.0330 - val_loss: 0.0325\n",
      "Epoch 7/10\n",
      "180/180 [==============================] - 27s 149ms/step - loss: 0.0317 - val_loss: 0.0322\n",
      "Epoch 8/10\n",
      "180/180 [==============================] - 28s 153ms/step - loss: 0.0302 - val_loss: 0.0310\n",
      "Epoch 9/10\n",
      "180/180 [==============================] - 27s 152ms/step - loss: 0.0295 - val_loss: 0.0316\n",
      "Epoch 10/10\n",
      "180/180 [==============================] - 27s 150ms/step - loss: 0.0287 - val_loss: 0.0294\n",
      "dict_keys(['loss', 'val_loss'])\n"
     ]
    },
    {
     "data": {
      "image/png": "[encoded data removed]",
      "text/plain": [
       "<Figure size 432x288 with 1 Axes>"
      ]
     },
     "metadata": {
      "needs_background": "light"
     },
     "output_type": "display_data"
    }
   ],
   "source": [
    "print (\"Model fit\")\n",
    "history = model.fit(x_train, y_train, batch_size=100,\n",
    "                    epochs=10, validation_data=(x_test, y_test))\n",
    "\n",
    "# Plot training and validation losses \n",
    "print(history.history.keys())\n",
    "plt.plot(history.history['loss'])\n",
    "plt.plot(history.history['val_loss'])\n",
    "plt.title('model loss')\n",
    "plt.ylabel('loss')\n",
    "plt.xlabel('epoch')\n",
    "plt.legend(['train', 'test'], loc='upper left')\n",
    "plt.show()"
   ]
  },
  {
   "cell_type": "code",
   "execution_count": 53,
   "metadata": {},
   "outputs": [],
   "source": [
    "# Helper functions for evaluating model accuracy\n",
    "def rad2deg(rad):\n",
    "  return 180.0 * rad / math.pi\n",
    "def get_action(angle_rad):\n",
    "  degree = rad2deg(angle_rad)\n",
    "  if degree < 15 and degree > -15:\n",
    "    return \"center\"\n",
    "  elif degree >= 15:\n",
    "    return \"right\" \n",
    "  elif degree <-15:\n",
    "    return \"left\""
   ]
  },
  {
   "cell_type": "code",
   "execution_count": 54,
   "metadata": {},
   "outputs": [
    {
     "name": "stdout",
     "output_type": "stream",
     "text": [
      "Accuracy is 0.856\n"
     ]
    }
   ],
   "source": [
    "pred = model.predict(x_test)\n",
    "pred = np.array(list(map(get_action, pred)))\n",
    "ground = np.array(list(map(get_action, y_test)))\n",
    "print('Accuracy is %.3f' % np.mean(pred == ground))"
   ]
  },
  {
   "cell_type": "code",
   "execution_count": 55,
   "metadata": {},
   "outputs": [
    {
     "name": "stdout",
     "output_type": "stream",
     "text": [
      "Model Save\n",
      "TFLite Model\n"
     ]
    },
    {
     "name": "stderr",
     "output_type": "stream",
     "text": [
      "2022-06-01 18:13:51.301671: W tensorflow/python/util/util.cc:368] Sets are not currently considered sequences, but this may change in the future, so consider avoiding using them.\n"
     ]
    },
    {
     "name": "stdout",
     "output_type": "stream",
     "text": [
      "INFO:tensorflow:Assets written to: /var/folders/2_/kskwshj16hqb0586p6cydg4h0000gq/T/tmpt17zo5ee/assets\n"
     ]
    },
    {
     "name": "stderr",
     "output_type": "stream",
     "text": [
      "2022-06-01 18:13:54.686011: W tensorflow/compiler/mlir/lite/python/tf_tfl_flatbuffer_helpers.cc:357] Ignored output_format.\n",
      "2022-06-01 18:13:54.686025: W tensorflow/compiler/mlir/lite/python/tf_tfl_flatbuffer_helpers.cc:360] Ignored drop_control_dependency.\n",
      "WARNING:absl:Buffer deduplication procedure will be skipped when flatbuffer library is not properly loaded\n"
     ]
    },
    {
     "name": "stdout",
     "output_type": "stream",
     "text": [
      "models/large-200x66x3.tflite is saved. copy this file to the robot\n"
     ]
    },
    {
     "name": "stderr",
     "output_type": "stream",
     "text": [
      "2022-06-01 18:13:54.687694: I tensorflow/cc/saved_model/reader.cc:43] Reading SavedModel from: /var/folders/2_/kskwshj16hqb0586p6cydg4h0000gq/T/tmpt17zo5ee\n",
      "2022-06-01 18:13:54.690208: I tensorflow/cc/saved_model/reader.cc:78] Reading meta graph with tags { serve }\n",
      "2022-06-01 18:13:54.690220: I tensorflow/cc/saved_model/reader.cc:119] Reading SavedModel debug info (if present) from: /var/folders/2_/kskwshj16hqb0586p6cydg4h0000gq/T/tmpt17zo5ee\n",
      "2022-06-01 18:13:54.696698: I tensorflow/cc/saved_model/loader.cc:228] Restoring SavedModel bundle.\n",
      "2022-06-01 18:13:54.748776: I tensorflow/cc/saved_model/loader.cc:212] Running initialization op on SavedModel bundle at path: /var/folders/2_/kskwshj16hqb0586p6cydg4h0000gq/T/tmpt17zo5ee\n",
      "2022-06-01 18:13:54.762587: I tensorflow/cc/saved_model/loader.cc:301] SavedModel load for tags { serve }; Status: success: OK. Took 74911 microseconds.\n",
      "2022-06-01 18:13:54.799855: I tensorflow/compiler/mlir/tensorflow/utils/dump_mlir_util.cc:237] disabling MLIR crash reproducer, set env var `MLIR_CRASH_REPRODUCER_DIRECTORY` to enable.\n",
      "2022-06-01 18:13:54.864176: I tensorflow/lite/tools/optimize/quantize_weights.cc:225] Skipping quantization of tensor sequential/dense_2/MatMul because it has fewer than 1024 elements (500).\n",
      "2022-06-01 18:13:54.864191: I tensorflow/lite/tools/optimize/quantize_weights.cc:225] Skipping quantization of tensor sequential/dense_3/MatMul because it has fewer than 1024 elements (10).\n"
     ]
    }
   ],
   "source": [
    "# Save both the Keras and TFLite models      \n",
    "print(\"Model Save\")                  \n",
    "model.save(model_file+\".h5\")\n",
    "\n",
    "print(\"TFLite Model\")\n",
    "converter = tf.lite.TFLiteConverter.from_keras_model(model)\n",
    "converter.optimizations = [tf.lite.Optimize.DEFAULT]\n",
    "# converter.target_spec.supported_types = [tf.float16]\n",
    "\n",
    "quantized_tflite_model = converter.convert()\n",
    "\n",
    "with open(model_file+\".tflite\", 'wb') as f:\n",
    "    f.write(quantized_tflite_model)\n",
    "\n",
    "print (model_file+\".tflite is saved. copy this file to the robot\")\n",
    "\n",
    "if RunningInCOLAB: \n",
    "    from google.colab import files\n",
    "    files.download(model_file+\".tflite\")"
   ]
  }
 ],
 "metadata": {
  "interpreter": {
   "hash": "b0fa6594d8f4cbf19f97940f81e996739fb7646882a419484c72d19e05852a7e"
  },
  "kernelspec": {
   "display_name": "Python 3.9.12 64-bit",
   "language": "python",
   "name": "python3"
  },
  "language_info": {
   "codemirror_mode": {
    "name": "ipython",
    "version": 3
   },
   "file_extension": ".py",
   "mimetype": "text/x-python",
   "name": "python",
   "nbconvert_exporter": "python",
   "pygments_lexer": "ipython3",
   "version": "3.9.12"
  },
  "orig_nbformat": 4
 },
 "nbformat": 4,
 "nbformat_minor": 2
}
